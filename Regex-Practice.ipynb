{
 "cells": [
  {
   "cell_type": "markdown",
   "id": "932d3605",
   "metadata": {},
   "source": [
    "##### Regular Expression(Regex):-Regular Expression or Regex is a sequence of characters that defines a search patterns.\n",
    "    "
   ]
  },
  {
   "cell_type": "markdown",
   "id": "27c48e52",
   "metadata": {},
   "source": [
    "    Regex can be used to check if string contains specific search pattern i.e. text processing.\n",
    "    "
   ]
  },
  {
   "cell_type": "markdown",
   "id": "f9181d04",
   "metadata": {},
   "source": [
    "Fuctions in Regex:-"
   ]
  },
  {
   "cell_type": "markdown",
   "id": "e775972a",
   "metadata": {},
   "source": [
    "    1)findall()=list\n",
    "    2)sub()\n",
    "    3)search()\n",
    "    4)match()\n",
    "    5)compile()\n",
    "    6)Split()"
   ]
  },
  {
   "cell_type": "markdown",
   "id": "936b2d7c",
   "metadata": {},
   "source": [
    "1)findall():-findall returns a list containing all matches.\n",
    "    Syntax- re.findall(\"pattern,text\")"
   ]
  },
  {
   "cell_type": "code",
   "execution_count": 8,
   "id": "462ccb92",
   "metadata": {},
   "outputs": [
    {
     "name": "stdout",
     "output_type": "stream",
     "text": [
      "['9944566842', '9825413678', '7788776648']\n",
      "['30-05-2022']\n",
      "['4444 5555 6666']\n",
      "['viratkohli@gmail.com']\n"
     ]
    }
   ],
   "source": [
    "import re\n",
    "text=\"\"\"My Mobile Number is: 9944566842, 9825413678\n",
    "        email id is : viratkohli@gmail.com\n",
    "        todays date is : 30-05-2022\n",
    "        aadhar no is : 4444 5555 6666\n",
    "        Mobile Number is : 7788776648\"\"\"\n",
    "mob=re.findall(\"\\d{10}\",text)\n",
    "mob\n",
    "mob=re.findall(\"[0-9]{10}\",text)\n",
    "print(mob)\n",
    "date=re.findall(\"[0-9]{2}[-][0-9]{2}[-][0-9]{4}\",text)\n",
    "print(date)\n",
    "aadhar=re.findall(\"[0-9]{4}[ ][0-9]{4}[ ][0-9]{4}\",text) \n",
    "print(aadhar)\n",
    "email=re.findall(\"[a-z]{2,20}[@][a-z.]{2,20}\",text)\n",
    "print(email)"
   ]
  },
  {
   "cell_type": "code",
   "execution_count": 9,
   "id": "60c180e0",
   "metadata": {},
   "outputs": [
    {
     "data": {
      "text/plain": [
       "['30-05-2023', '29-09-2014', '12-03-2015', '14-02-2016']"
      ]
     },
     "execution_count": 9,
     "metadata": {},
     "output_type": "execute_result"
    }
   ],
   "source": [
    "import re\n",
    "text= \"\"\"My Mobile Number is : 9865471235\n",
    "         email id is : viratkohli@gamil.com, priyadeshmukh23@gmail.com\n",
    "         todays date is : 30-05-2023\n",
    "         Mobile Number is: 7752146381\n",
    "         29-09-2014\n",
    "         12-03-2015\n",
    "         14-02-2016\"\"\"\n",
    "date=re.findall(\"[0-9]{2}[-][0-9]{2}[-][0-9]{4}\",text)\n",
    "date"
   ]
  },
  {
   "cell_type": "code",
   "execution_count": 10,
   "id": "839afe5e",
   "metadata": {},
   "outputs": [
    {
     "data": {
      "text/plain": [
       "['30-02-2022',\n",
       " '29-03-2017',\n",
       " '31-05-2019',\n",
       " '26-04-2016',\n",
       " '30/06/2016',\n",
       " '24.05.2017']"
      ]
     },
     "execution_count": 10,
     "metadata": {},
     "output_type": "execute_result"
    }
   ],
   "source": [
    "import re\n",
    "text=\"\"\"My Mobile Number is : 9945871263,\n",
    "        email id is : viratkohli@gmail.com\n",
    "        todays date is :30-02-2022\n",
    "        Mobile Number is : 7712456389\n",
    "        29-03-2017\n",
    "        31-05-2019\n",
    "        26-04-2016\n",
    "        30/06/2016\n",
    "        24.05.2017\"\"\"\n",
    "date=re.findall(\"[0-9]{2}[-/.][0-9]{2}[-/.][0-9]{4}\",text)\n",
    "date"
   ]
  },
  {
   "cell_type": "code",
   "execution_count": 11,
   "id": "7a7037c2",
   "metadata": {},
   "outputs": [
    {
     "data": {
      "text/plain": [
       "['ASDFH1254P', 'ADFSG5236F', 'POLYI1263N']"
      ]
     },
     "execution_count": 11,
     "metadata": {},
     "output_type": "execute_result"
    }
   ],
   "source": [
    "text=\"\"\"PAN CARD NUMBER : ASDFH1254P\n",
    "        PAN CARD NUMBER : ADFSG5236F\n",
    "        PAN CARD NUMBER : POLYI1263N\"\"\"\n",
    "pan=re.findall(\"[A-Z]{5}[0-9]{4}[A-Z]\",text)\n",
    "pan"
   ]
  },
  {
   "cell_type": "code",
   "execution_count": 12,
   "id": "887478c1",
   "metadata": {},
   "outputs": [
    {
     "data": {
      "text/plain": [
       "['viratkohli@gamil.com', 'virat123@gmail.com']"
      ]
     },
     "execution_count": 12,
     "metadata": {},
     "output_type": "execute_result"
    }
   ],
   "source": [
    "import re\n",
    "text = \"\"\"My Mobile Number is : 9820416052,\n",
    "          email id is : viratkohli@gamil.com\n",
    "          email id is : virat123@gmail.com\"\"\"\n",
    "email=re.findall(\"[a-z0-9]{2,20}[@][a-z.]{2,20}\",text)\n",
    "email\n"
   ]
  },
  {
   "cell_type": "code",
   "execution_count": 13,
   "id": "cf1a5cb2",
   "metadata": {},
   "outputs": [
    {
     "data": {
      "text/plain": [
       "['viratkohli@gmail.com',\n",
       " 'viratkohli123@gmail.com',\n",
       " 'virat_kohli123@gmail.com',\n",
       " 'virat-kohli@gmail.com',\n",
       " 'virat-kohli@vcypune.co.in']"
      ]
     },
     "execution_count": 13,
     "metadata": {},
     "output_type": "execute_result"
    }
   ],
   "source": [
    "text = \"\"\"email id is : viratkohli@gmail.com\n",
    "          email id is : viratkohli123@gmail.com\n",
    "          email id is : virat_kohli123@gmail.com\n",
    "          email id is : virat-kohli@gmail.com\n",
    "          email id is : virat-kohli@vcypune.co.in\"\"\"\n",
    "email=re.findall(\"[a-z0-9-_]{2,20}[@][a-z.]{2,20}\",text)\n",
    "email"
   ]
  },
  {
   "cell_type": "code",
   "execution_count": 16,
   "id": "cbe92c6f",
   "metadata": {},
   "outputs": [
    {
     "name": "stdout",
     "output_type": "stream",
     "text": [
      "Name : Priyanka Vijay Dhakate.\n",
      "        PAN Number : ASDFG1234P\n",
      "        Mobile Number : 8564123958\n",
      "        DOB : 17/11/1996\n",
      "        Email id : pdhakate564@gmail.com\n",
      "        aadhar number = 2536 4178 2014\n",
      "        \n"
     ]
    }
   ],
   "source": [
    "text=\"\"\"Name : Priyanka Vijay Dhakate.\n",
    "        PAN Number : ASDFG1234P\n",
    "        Mobile Number : 8564123958\n",
    "        DOB : 17/11/1996\n",
    "        Email id : pdhakate564@gmail.com\n",
    "        aadhar number = 2536 4178 2014\n",
    "        \"\"\"\n",
    "#print(pan_number)\n",
    "#print(mob_number)\n",
    "#print(date)\n",
    "#print(email_id)\n",
    "#print(aadhar_number)\n",
    "print(text)"
   ]
  },
  {
   "cell_type": "markdown",
   "id": "dabd4123",
   "metadata": {},
   "source": [
    "#### Special Characters:-"
   ]
  },
  {
   "cell_type": "code",
   "execution_count": 26,
   "id": "b147029e",
   "metadata": {},
   "outputs": [],
   "source": [
    "text=\"\"\"My Mobile NUmber is : 9925147836,\n",
    "        email id is: viratkohli@gamil.com,chetna_123@gmail.com,ch@gmail.com,\n",
    "        today date is : 30-02-2016,30/02/2016,\n",
    "        4412 5236 5478,\n",
    "        PAN : LKJHG2343R,\n",
    "        Mobile Number is : 7785236414\"\"\""
   ]
  },
  {
   "cell_type": "code",
   "execution_count": 27,
   "id": "8e3f8467",
   "metadata": {},
   "outputs": [
    {
     "name": "stdout",
     "output_type": "stream",
     "text": [
      "['9925147836', '7785236414']\n",
      "['9925147836', '7785236414']\n",
      "['4412 5236 5478']\n",
      "['4412 5236 5478']\n",
      "['LKJHG2343R']\n",
      "['     4412 ', 'LKJHG2343R']\n",
      "['30-02-2016', '30/02/2016']\n",
      "['viratkohli@gamil.com', 'chetna_123@gmail.com', 'ch@gmail.com']\n"
     ]
    }
   ],
   "source": [
    "#we will use findall() to search pattern\n",
    "import re #importing Regular expression module\n",
    "\n",
    "#To find Mobile no.\n",
    "mob_no=re.findall(\"[0-9]{10}\",text)  #using [0-9]{10}\n",
    "print(mob_no)\n",
    "mob=re.findall(\"\\d{10}\",text)   #using \\d\n",
    "print(mob)\n",
    "\n",
    "#To find Aadhar card no\n",
    "aadhar=re.findall(\"[0-9]{4}[ ][0-9]{4}[ ][0-9]{4}\",text)\n",
    "print(aadhar)\n",
    "aadhar_no=re.findall(\"\\d{4}\\s\\d{4}\\s\\d{4}\",text)     #using \\d\n",
    "print(aadhar_no)\n",
    "\n",
    "\n",
    "#To find pan card no \n",
    "pan=re.findall(\"[A-Z]{5}[0-9]{4}[A-Z]\",text)\n",
    "print(pan)\n",
    "pan1=re.findall(\"\\D{5}\\d{4}\\D\",text)\n",
    "print(pan1)\n",
    "\n",
    "#30-05-2022\n",
    "date=re.findall(\"[0-9]{2}[/-][0-9]{2}[/-][0-9]{4}\",text)\n",
    "print(date)\n",
    "\n",
    "#emailid:viratkohli@gmail.com,com,chetna_123@gmail.com,ch@gmail.com\n",
    "email=re.findall(\"[a-z0-9_]{2,20}[@][a-z]{2,5}[.a-z]{4}\",text)\n",
    "print(email)\n",
    "\n"
   ]
  },
  {
   "cell_type": "code",
   "execution_count": null,
   "id": "c7520c23",
   "metadata": {},
   "outputs": [],
   "source": [
    "1) \\d:-Returns a match where string contains digit (0-9)or[0-9]"
   ]
  },
  {
   "cell_type": "code",
   "execution_count": null,
   "id": "6642c46a",
   "metadata": {},
   "outputs": [],
   "source": [
    "2) \\D:-Returns a match where string does not contains digits. Eg.-spaces,special characters, ;etters etc[^0-9]"
   ]
  },
  {
   "cell_type": "code",
   "execution_count": 30,
   "id": "c7a31a4d",
   "metadata": {},
   "outputs": [
    {
     "name": "stdout",
     "output_type": "stream",
     "text": [
      "['chetna', '123', 'chetanavasa', 've']\n"
     ]
    }
   ],
   "source": [
    "text=\"\"\"chetna@123 chetanavasave\"\"\"\n",
    "s=re.findall(\"\\w{2,11}\",text)\n",
    "print(s)"
   ]
  },
  {
   "cell_type": "code",
   "execution_count": 31,
   "id": "01e72179",
   "metadata": {},
   "outputs": [
    {
     "name": "stdout",
     "output_type": "stream",
     "text": [
      "[' ', 'D', 'O', 'B', ' ', ':', ' ', '/', '/', '\\n', ' ', ' ', ' ', ' ', ' ', ' ', ' ', ' ', ' ', 'E', 'm', 'a', 'i', 'l', ' ', 'i', 'd', ':', ' ', 'v', 'i', 's', 'h', 'a', 'l', 't', 'a', 'n', 'd', 'e', '@', 'g', 'm', 'a', 'i', 'l', '.', 'c', 'o', 'm', '\\n', ' ', ' ', ' ', ' ', ' ', ' ', ' ', ' ', ' ', 'a', 'a', 'd', 'h', 'a', 'r', ' ', 'n', 'u', 'm', 'b', 'e', 'r', ' ', '=', ' ', ' ', ' ']\n"
     ]
    }
   ],
   "source": [
    "text=\"\"\" DOB : 17/11/2014\n",
    "         Email id: vishaltande112@gmail.com\n",
    "         aadhar number = 1523 4568 2356\"\"\"\n",
    "x=re.findall('\\D',text)\n",
    "print(x)"
   ]
  },
  {
   "cell_type": "code",
   "execution_count": 32,
   "id": "af35d2ef",
   "metadata": {},
   "outputs": [
    {
     "name": "stdout",
     "output_type": "stream",
     "text": [
      "['Machi', 'ne le', 'arnin', 'g is ', 'a fie', 'ld of', ' inqu', 'iry d', 'evote', 'd to ', 'under', 'stand', 'ing a', 'nd bu', 'ildin', 'g\\nmet', 'hods ', 'thta ', \"'lear\", \"n', t\", 'hat i', 's, me', 'thods', ' that', ' leve', 'rage ', 'date ', 'to im', 'prove', ' perf', 'orman', 'ce on', ' some', '\\nset ', 'of ta', 'sk. I', 't is ', 'seen ', 'as a ', 'part ', 'of ar', 'tific', 'ial i', 'ntell', 'igenc']\n"
     ]
    }
   ],
   "source": [
    "text=\"\"\"Machine learning is a field of inquiry devoted to understanding and building\n",
    "methods thta 'learn', that is, methods that leverage date to improve performance on some\n",
    "set of task. It is seen as a part of artificial intelligence\"\"\"\n",
    "x=re.findall('\\D{5}',text)\n",
    "print(x)"
   ]
  },
  {
   "cell_type": "code",
   "execution_count": 33,
   "id": "fbbe4660",
   "metadata": {},
   "outputs": [
    {
     "ename": "SyntaxError",
     "evalue": "unexpected character after line continuation character (2677856718.py, line 8)",
     "output_type": "error",
     "traceback": [
      "\u001b[1;36m  Cell \u001b[1;32mIn[33], line 8\u001b[1;36m\u001b[0m\n\u001b[1;33m    pan_number=re.findall('[A-Z]'{5}\\d{4}[A-Z]',text1)\u001b[0m\n\u001b[1;37m                                     ^\u001b[0m\n\u001b[1;31mSyntaxError\u001b[0m\u001b[1;31m:\u001b[0m unexpected character after line continuation character\n"
     ]
    }
   ],
   "source": [
    "import re\n",
    "text1 = \"\"\"\n",
    "            PAN Number : SADFG6578P               #valid\n",
    "            PAN Number2 : GHJFSAERTU2468UGB       #invalid\n",
    "            HGDSDGGH768Lk                         #invalid\n",
    "            GFDASAERTUH9865Lk                     #invalid\n",
    "            HJKLG6546L                            #valid\"\"\"\n",
    "pan_number=re.findall('[A-Z]'{5}\\d{4}[A-Z]',text1)\n",
    "pan_number"
   ]
  },
  {
   "cell_type": "code",
   "execution_count": null,
   "id": "5bdc007f",
   "metadata": {},
   "outputs": [],
   "source": [
    "Sub():- Sub function is used to replace one or many matches with the string.\n",
    "    It returns the updated string text.\n",
    "    syntax:-re.sub(pattern,new string,text)"
   ]
  },
  {
   "cell_type": "code",
   "execution_count": 34,
   "id": "52759f10",
   "metadata": {},
   "outputs": [
    {
     "name": "stdout",
     "output_type": "stream",
     "text": [
      "Data Science is a field of inquiry devoted to understanding 23\n"
     ]
    }
   ],
   "source": [
    "import re\n",
    "string =\"Machine 121 learning is a field of inquiry devoted to understanding 23\"\n",
    "s=re.sub(\"\\D{7}\\s\\d{3}\\s\\D{8}\",\"Data Science\",string)\n",
    "print(s)"
   ]
  },
  {
   "cell_type": "code",
   "execution_count": null,
   "id": "fefcc7a4",
   "metadata": {},
   "outputs": [],
   "source": [
    "3) Search():-"
   ]
  },
  {
   "cell_type": "code",
   "execution_count": 35,
   "id": "c3547734",
   "metadata": {},
   "outputs": [],
   "source": [
    "string='python and data science'\n",
    "s=re.search(\"\\D\",string)"
   ]
  },
  {
   "cell_type": "code",
   "execution_count": 36,
   "id": "83ac09ef",
   "metadata": {},
   "outputs": [
    {
     "data": {
      "text/plain": [
       "<re.Match object; span=(0, 1), match='p'>"
      ]
     },
     "execution_count": 36,
     "metadata": {},
     "output_type": "execute_result"
    }
   ],
   "source": [
    "s"
   ]
  },
  {
   "cell_type": "code",
   "execution_count": null,
   "id": "a5072701",
   "metadata": {},
   "outputs": [],
   "source": [
    "4) Match"
   ]
  },
  {
   "cell_type": "code",
   "execution_count": 38,
   "id": "c03abb99",
   "metadata": {},
   "outputs": [
    {
     "data": {
      "text/plain": [
       "<re.Match object; span=(0, 1), match='1'>"
      ]
     },
     "execution_count": 38,
     "metadata": {},
     "output_type": "execute_result"
    }
   ],
   "source": [
    "string='1Python and data science'\n",
    "re.match(\"\\d\",string)"
   ]
  },
  {
   "cell_type": "code",
   "execution_count": 41,
   "id": "e5e6e023",
   "metadata": {},
   "outputs": [
    {
     "name": "stdout",
     "output_type": "stream",
     "text": [
      "compiled reg expr <re.Match object; span=(0, 10), match='26-04-2012'>\n"
     ]
    }
   ],
   "source": [
    "regex=re.compile(r'([\\d]{2})-([\\d]{2})-([\\d]{4})')\n",
    "\n",
    "#search method\n",
    "print('compiled reg expr', regex.search('26-04-2012'))\n"
   ]
  },
  {
   "cell_type": "code",
   "execution_count": 43,
   "id": "bcd7e604",
   "metadata": {},
   "outputs": [
    {
     "name": "stdout",
     "output_type": "stream",
     "text": [
      "26.08.2014\n"
     ]
    }
   ],
   "source": [
    "#sub method\n",
    "print(regex.sub(r'\\1.\\2.\\3','26-08-2014'))"
   ]
  },
  {
   "cell_type": "code",
   "execution_count": null,
   "id": "7133192c",
   "metadata": {},
   "outputs": [],
   "source": []
  }
 ],
 "metadata": {
  "kernelspec": {
   "display_name": "Python 3 (ipykernel)",
   "language": "python",
   "name": "python3"
  },
  "language_info": {
   "codemirror_mode": {
    "name": "ipython",
    "version": 3
   },
   "file_extension": ".py",
   "mimetype": "text/x-python",
   "name": "python",
   "nbconvert_exporter": "python",
   "pygments_lexer": "ipython3",
   "version": "3.11.4"
  }
 },
 "nbformat": 4,
 "nbformat_minor": 5
}
